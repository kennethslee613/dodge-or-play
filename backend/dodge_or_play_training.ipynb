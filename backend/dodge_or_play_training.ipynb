{
  "nbformat": 4,
  "nbformat_minor": 0,
  "metadata": {
    "colab": {
      "name": "dodge-or-play-training.ipynb",
      "provenance": [],
      "collapsed_sections": []
    },
    "kernelspec": {
      "name": "python3",
      "display_name": "Python 3"
    },
    "accelerator": "GPU"
  },
  "cells": [
    {
      "cell_type": "code",
      "metadata": {
        "id": "mKPCdy33EGMt",
        "colab_type": "code",
        "outputId": "e26f11b6-349f-460d-e118-ca6522428a8c",
        "colab": {
          "base_uri": "https://localhost:8080/",
          "height": 459
        }
      },
      "source": [
        "!pip install pymysql\n",
        "!pip install tensorflow"
      ],
      "execution_count": 1,
      "outputs": [
        {
          "output_type": "stream",
          "text": [
            "Collecting pymysql\n",
            "\u001b[?25l  Downloading https://files.pythonhosted.org/packages/ed/39/15045ae46f2a123019aa968dfcba0396c161c20f855f11dea6796bcaae95/PyMySQL-0.9.3-py2.py3-none-any.whl (47kB)\n",
            "\r\u001b[K     |██████▉                         | 10kB 14.1MB/s eta 0:00:01\r\u001b[K     |█████████████▊                  | 20kB 2.3MB/s eta 0:00:01\r\u001b[K     |████████████████████▋           | 30kB 3.3MB/s eta 0:00:01\r\u001b[K     |███████████████████████████▌    | 40kB 2.2MB/s eta 0:00:01\r\u001b[K     |████████████████████████████████| 51kB 1.9MB/s \n",
            "\u001b[?25hInstalling collected packages: pymysql\n",
            "Successfully installed pymysql-0.9.3\n",
            "Requirement already satisfied: tensorflow in /usr/local/lib/python3.6/dist-packages (1.15.0)\n",
            "Requirement already satisfied: wrapt>=1.11.1 in /usr/local/lib/python3.6/dist-packages (from tensorflow) (1.11.2)\n",
            "Requirement already satisfied: gast==0.2.2 in /usr/local/lib/python3.6/dist-packages (from tensorflow) (0.2.2)\n",
            "Requirement already satisfied: opt-einsum>=2.3.2 in /usr/local/lib/python3.6/dist-packages (from tensorflow) (3.1.0)\n",
            "Requirement already satisfied: protobuf>=3.6.1 in /usr/local/lib/python3.6/dist-packages (from tensorflow) (3.10.0)\n",
            "Requirement already satisfied: google-pasta>=0.1.6 in /usr/local/lib/python3.6/dist-packages (from tensorflow) (0.1.8)\n",
            "Requirement already satisfied: six>=1.10.0 in /usr/local/lib/python3.6/dist-packages (from tensorflow) (1.12.0)\n",
            "Requirement already satisfied: wheel>=0.26 in /usr/local/lib/python3.6/dist-packages (from tensorflow) (0.33.6)\n",
            "Requirement already satisfied: absl-py>=0.7.0 in /usr/local/lib/python3.6/dist-packages (from tensorflow) (0.8.1)\n",
            "Requirement already satisfied: astor>=0.6.0 in /usr/local/lib/python3.6/dist-packages (from tensorflow) (0.8.0)\n",
            "Requirement already satisfied: numpy<2.0,>=1.16.0 in /usr/local/lib/python3.6/dist-packages (from tensorflow) (1.17.4)\n",
            "Requirement already satisfied: tensorboard<1.16.0,>=1.15.0 in /usr/local/lib/python3.6/dist-packages (from tensorflow) (1.15.0)\n",
            "Requirement already satisfied: tensorflow-estimator==1.15.1 in /usr/local/lib/python3.6/dist-packages (from tensorflow) (1.15.1)\n",
            "Requirement already satisfied: grpcio>=1.8.6 in /usr/local/lib/python3.6/dist-packages (from tensorflow) (1.15.0)\n",
            "Requirement already satisfied: keras-preprocessing>=1.0.5 in /usr/local/lib/python3.6/dist-packages (from tensorflow) (1.1.0)\n",
            "Requirement already satisfied: keras-applications>=1.0.8 in /usr/local/lib/python3.6/dist-packages (from tensorflow) (1.0.8)\n",
            "Requirement already satisfied: termcolor>=1.1.0 in /usr/local/lib/python3.6/dist-packages (from tensorflow) (1.1.0)\n",
            "Requirement already satisfied: setuptools in /usr/local/lib/python3.6/dist-packages (from protobuf>=3.6.1->tensorflow) (42.0.2)\n",
            "Requirement already satisfied: markdown>=2.6.8 in /usr/local/lib/python3.6/dist-packages (from tensorboard<1.16.0,>=1.15.0->tensorflow) (3.1.1)\n",
            "Requirement already satisfied: werkzeug>=0.11.15 in /usr/local/lib/python3.6/dist-packages (from tensorboard<1.16.0,>=1.15.0->tensorflow) (0.16.0)\n",
            "Requirement already satisfied: h5py in /usr/local/lib/python3.6/dist-packages (from keras-applications>=1.0.8->tensorflow) (2.8.0)\n"
          ],
          "name": "stdout"
        }
      ]
    },
    {
      "cell_type": "code",
      "metadata": {
        "id": "IQGLCk7bD-dC",
        "colab_type": "code",
        "outputId": "c945acc4-da0f-4795-f4ce-999c74490778",
        "colab": {
          "base_uri": "https://localhost:8080/",
          "height": 63
        }
      },
      "source": [
        "import pymysql\n",
        "import tensorflow as tf\n",
        "import numpy as np\n",
        "from sklearn.model_selection import train_test_split, KFold\n",
        "from sklearn import datasets, linear_model, preprocessing\n",
        "from tensorflow.keras.models import Model, Sequential\n",
        "from tensorflow.keras.layers import Dense, Activation\n",
        "from tensorflow.keras import optimizers\n",
        "import tensorflow.keras.backend as K\n",
        "\n",
        "import matplotlib.pyplot as plt\n",
        "%matplotlib inline"
      ],
      "execution_count": 2,
      "outputs": [
        {
          "output_type": "display_data",
          "data": {
            "text/html": [
              "<p style=\"color: red;\">\n",
              "The default version of TensorFlow in Colab will soon switch to TensorFlow 2.x.<br>\n",
              "We recommend you <a href=\"https://www.tensorflow.org/guide/migrate\" target=\"_blank\">upgrade</a> now \n",
              "or ensure your notebook will continue to use TensorFlow 1.x via the <code>%tensorflow_version 1.x</code> magic:\n",
              "<a href=\"https://colab.research.google.com/notebooks/tensorflow_version.ipynb\" target=\"_blank\">more info</a>.</p>\n"
            ],
            "text/plain": [
              "<IPython.core.display.HTML object>"
            ]
          },
          "metadata": {
            "tags": []
          }
        }
      ]
    },
    {
      "cell_type": "code",
      "metadata": {
        "id": "tgLF8BNuDld8",
        "colab_type": "code",
        "colab": {}
      },
      "source": [
        "# with open('DB_INFO.txt', 'r') as key:\n",
        "#   DB_INFO = [line.rstrip('\\n') for line in key]\n",
        "\n",
        "# connection = pymysql.connect(host=DB_INFO[0],\n",
        "#   port=int(DB_INFO[1]),\n",
        "#   user=DB_INFO[2],\n",
        "#   password=DB_INFO[3],\n",
        "#   db=DB_INFO[4],\n",
        "#   charset='utf8mb4')\n",
        "\n",
        "connection = pymysql.connect(host='dodgeorplay.clwznvkuuypv.us-east-2.rds.amazonaws.com',\n",
        "  port=3306,\n",
        "  user='admin',\n",
        "  password='admin1admin',\n",
        "  db='DodgeOrPlay',\n",
        "  charset='utf8mb4')\n",
        "    \n",
        "cursor = connection.cursor()"
      ],
      "execution_count": 0,
      "outputs": []
    },
    {
      "cell_type": "code",
      "metadata": {
        "id": "WbWz_rz5FtYh",
        "colab_type": "code",
        "outputId": "ef9fc405-2e38-450e-fc04-5e5d32f30d65",
        "colab": {
          "base_uri": "https://localhost:8080/",
          "height": 255
        }
      },
      "source": [
        "query = 'SELECT * FROM testData'\n",
        "# query = 'SELECT s1g1visionScore, s1g2visionScore, s2g1visionScore, s2g2visionScore, s3g1visionScore, s3g2visionScore, s4g1visionScore, s4g2visionScore, s5g1visionScore, s5g2visionScore, win, gameId FROM testData'\n",
        "# query = 'SELECT s1g1damageDealtToTurrets, s1g2damageDealtToTurrets, s2g1damageDealtToTurrets, s2g2damageDealtToTurrets, s3g1damageDealtToTurrets, s3g2damageDealtToTurrets, s4g1damageDealtToTurrets, s4g2damageDealtToTurrets, s5g1damageDealtToTurrets, s5g2damageDealtToTurrets, win, gameId FROM testData'\n",
        "# query = 'SELECT s1g1win, s1g2win, s2g1win, s2g2win, s3g1win, s3g2win, s4g1win, s4g2win, s5g1win, s5g2win, win, gameId FROM testData'\n",
        "\n",
        "cursor.execute(query)\n",
        "data = np.array(cursor.fetchall())[:,:-1]\n",
        "data = data.astype(float).astype(int)\n",
        "# for i in range(len(data)):\n",
        "#   for j in range(len(data[0])):\n",
        "#     if data[i,j] == None:\n",
        "#       data[i,j] = np.nan\n",
        "data=data[~np.isnan(data).any(axis=1)]\n",
        "X = preprocessing.normalize(data[:,:-1])\n",
        "y = data[:,-1]\n",
        "X, y"
      ],
      "execution_count": 4,
      "outputs": [
        {
          "output_type": "execute_result",
          "data": {
            "text/plain": [
              "(array([[2.02158630e-02, 3.91085058e-03, 1.47024458e-05, ...,\n",
              "         2.33768888e-03, 5.73395386e-04, 1.47024458e-05],\n",
              "        [2.68621448e-02, 1.94653223e-03, 7.07829902e-05, ...,\n",
              "         4.21158792e-03, 2.83131961e-04, 1.76957475e-05],\n",
              "        [2.30631061e-02, 1.00551950e-03, 6.38425081e-05, ...,\n",
              "         1.03744076e-03, 2.55370032e-04, 0.00000000e+00],\n",
              "        ...,\n",
              "        [2.47467240e-02, 1.67672903e-03, 4.49123848e-05, ...,\n",
              "         3.24866250e-03, 2.39532719e-04, 0.00000000e+00],\n",
              "        [2.52994978e-02, 1.48722279e-03, 6.68414736e-05, ...,\n",
              "         1.63761610e-03, 3.00786631e-04, 1.67103684e-05],\n",
              "        [2.63589510e-02, 7.92522605e-03, 6.37845155e-05, ...,\n",
              "         3.12544126e-03, 2.55138062e-04, 0.00000000e+00]]),\n",
              " array([0, 1, 1, ..., 0, 1, 0]))"
            ]
          },
          "metadata": {
            "tags": []
          },
          "execution_count": 4
        }
      ]
    },
    {
      "cell_type": "code",
      "metadata": {
        "id": "dwKTi_bzKXqY",
        "colab_type": "code",
        "colab": {}
      },
      "source": [
        "Xtr, Xts, ytr, yts = train_test_split(X,y,test_size=0.3,shuffle=True)"
      ],
      "execution_count": 0,
      "outputs": []
    },
    {
      "cell_type": "code",
      "metadata": {
        "id": "D1VGH97HREE0",
        "colab_type": "code",
        "colab": {}
      },
      "source": [
        "K.clear_session()"
      ],
      "execution_count": 0,
      "outputs": []
    },
    {
      "cell_type": "code",
      "metadata": {
        "id": "CHck_gKcREV0",
        "colab_type": "code",
        "colab": {
          "base_uri": "https://localhost:8080/",
          "height": 88
        },
        "outputId": "c893df6a-2bb2-4645-80d2-4a0e2bf7d2c6"
      },
      "source": [
        "nin = Xtr.shape[1]\n",
        "nh = 2000\n",
        "nout = 1\n",
        "model = Sequential()\n",
        "model.add(Dense(units=nh, input_shape=(nin,), activation='sigmoid', name='hidden'))\n",
        "model.add(Dense(units=nout, activation='sigmoid', name='output'))"
      ],
      "execution_count": 7,
      "outputs": [
        {
          "output_type": "stream",
          "text": [
            "WARNING:tensorflow:From /usr/local/lib/python3.6/dist-packages/tensorflow_core/python/ops/resource_variable_ops.py:1630: calling BaseResourceVariable.__init__ (from tensorflow.python.ops.resource_variable_ops) with constraint is deprecated and will be removed in a future version.\n",
            "Instructions for updating:\n",
            "If using Keras pass *_constraint arguments to layers.\n"
          ],
          "name": "stdout"
        }
      ]
    },
    {
      "cell_type": "code",
      "metadata": {
        "id": "ZjE0hzWRLSxa",
        "colab_type": "code",
        "outputId": "d7b7f2f1-f43f-4c65-bd0e-23430aae9fa0",
        "colab": {
          "base_uri": "https://localhost:8080/",
          "height": 221
        }
      },
      "source": [
        "model.summary()"
      ],
      "execution_count": 8,
      "outputs": [
        {
          "output_type": "stream",
          "text": [
            "Model: \"sequential\"\n",
            "_________________________________________________________________\n",
            "Layer (type)                 Output Shape              Param #   \n",
            "=================================================================\n",
            "hidden (Dense)               (None, 2000)              282000    \n",
            "_________________________________________________________________\n",
            "output (Dense)               (None, 1)                 2001      \n",
            "=================================================================\n",
            "Total params: 284,001\n",
            "Trainable params: 284,001\n",
            "Non-trainable params: 0\n",
            "_________________________________________________________________\n"
          ],
          "name": "stdout"
        }
      ]
    },
    {
      "cell_type": "code",
      "metadata": {
        "id": "5JtkL6tASlDK",
        "colab_type": "code",
        "colab": {
          "base_uri": "https://localhost:8080/",
          "height": 68
        },
        "outputId": "f3ebee8a-1c0f-493c-de0d-7e06fb808fc1"
      },
      "source": [
        "opt = optimizers.Adam(lr=0.01)\n",
        "model.compile(optimizer=opt,\n",
        "              loss='binary_crossentropy',\n",
        "              metrics=['accuracy'])"
      ],
      "execution_count": 9,
      "outputs": [
        {
          "output_type": "stream",
          "text": [
            "WARNING:tensorflow:From /usr/local/lib/python3.6/dist-packages/tensorflow_core/python/ops/nn_impl.py:183: where (from tensorflow.python.ops.array_ops) is deprecated and will be removed in a future version.\n",
            "Instructions for updating:\n",
            "Use tf.where in 2.0, which has the same broadcast rule as np.where\n"
          ],
          "name": "stdout"
        }
      ]
    },
    {
      "cell_type": "markdown",
      "metadata": {
        "id": "aFtO_rj_hHYV",
        "colab_type": "text"
      },
      "source": [
        "## **Neural Network Results**\n",
        "\n",
        "Although training data goes up from 50% to 80%, the test data remains around 50%, meaning that there is no correlation between the different stats of your teammates and the outcome of the game. This means that even though your teammates played badly before, you still have a fair chance at winning the game. The way the game plays out is uncertain, and the strength of the opposing team is also unknown."
      ]
    },
    {
      "cell_type": "code",
      "metadata": {
        "id": "oOOvI5UnS8zh",
        "colab_type": "code",
        "outputId": "3ca4cc56-54ac-42b1-c2c3-a155d02d1e79",
        "colab": {
          "base_uri": "https://localhost:8080/",
          "height": 296
        }
      },
      "source": [
        "# nit = 20   # number of training iterations\n",
        "# nepoch_per_it = 100  # number of epochs per iterations\n",
        "\n",
        "# # Loss, accuracy and epoch per iteration\n",
        "# loss = np.zeros(nit)\n",
        "# acc = np.zeros(nit)\n",
        "# epoch_it = np.zeros(nit)\n",
        "\n",
        "# # Main iteration loop\n",
        "# for it in range(nit):\n",
        "    \n",
        "#     # Continue the fit of the model\n",
        "#     init_epoch = it*nepoch_per_it\n",
        "#     model.fit(X, y, epochs=nepoch_per_it, batch_size=1000, verbose=0)\n",
        "    \n",
        "#     # Measure the loss and accuracy on the training data\n",
        "#     lossi, acci = model.evaluate(X,y, verbose=0)\n",
        "#     epochi = (it+1)*nepoch_per_it\n",
        "#     epoch_it[it] = epochi\n",
        "#     loss[it] = lossi\n",
        "#     acc[it] = acci\n",
        "#     print(\"epoch=%4d loss=%12.4e acc=%7.5f\" % (epochi,lossi,acci))\n",
        "\n",
        "hist = model.fit(Xtr, ytr, epochs=5000, batch_size=1000, validation_data=(Xts,yts), verbose=0)\n",
        "\n",
        "tr_accuracy = hist.history['acc']\n",
        "val_accuracy = hist.history['val_acc']\n",
        "\n",
        "plt.plot(tr_accuracy)\n",
        "plt.plot(val_accuracy)\n",
        "plt.grid()\n",
        "plt.xlabel('epochs')\n",
        "plt.ylabel('accuarcy')\n",
        "plt.legend(['training accuracy', 'validation accuracy'])"
      ],
      "execution_count": 10,
      "outputs": [
        {
          "output_type": "execute_result",
          "data": {
            "text/plain": [
              "<matplotlib.legend.Legend at 0x7f0e1053ec88>"
            ]
          },
          "metadata": {
            "tags": []
          },
          "execution_count": 10
        },
        {
          "output_type": "display_data",
          "data": {
            "image/png": "[encoded data removed]",
            "text/plain": [
              "<Figure size 432x288 with 1 Axes>"
            ]
          },
          "metadata": {
            "tags": []
          }
        }
      ]
    },
    {
      "cell_type": "code",
      "metadata": {
        "id": "B90kq3j2XNt5",
        "colab_type": "code",
        "colab": {}
      },
      "source": [
        "# logreg = linear_model.LogisticRegression(C=0.5)\n",
        "logreg = linear_model.LogisticRegression(C=1e5)"
      ],
      "execution_count": 0,
      "outputs": []
    },
    {
      "cell_type": "code",
      "metadata": {
        "id": "s5mJ-RksdlhY",
        "colab_type": "code",
        "outputId": "dcda1e44-4399-4509-f73f-8122b5ec35bf",
        "colab": {
          "base_uri": "https://localhost:8080/",
          "height": 68
        }
      },
      "source": [
        "logreg.fit(Xtr, ytr)\n",
        "yhat = logreg.predict(Xtr)\n",
        "acc = np.mean(yhat == ytr)\n",
        "print(\"Accuracy on test data = %f\" % acc)"
      ],
      "execution_count": 21,
      "outputs": [
        {
          "output_type": "stream",
          "text": [
            "/usr/local/lib/python3.6/dist-packages/sklearn/linear_model/logistic.py:432: FutureWarning: Default solver will be changed to 'lbfgs' in 0.22. Specify a solver to silence this warning.\n",
            "  FutureWarning)\n"
          ],
          "name": "stderr"
        },
        {
          "output_type": "stream",
          "text": [
            "Accuracy on test data = 0.581128\n"
          ],
          "name": "stdout"
        }
      ]
    },
    {
      "cell_type": "markdown",
      "metadata": {
        "id": "Pq_ylQKjS4YO",
        "colab_type": "text"
      },
      "source": [
        "## **L2 Regularziation Results**\n",
        "\n",
        "It seems that with a high L2 regularization constant (low C), the features with most weight are damage dealt to turrets and gold earned. This makes sense because the more gold a player earns, the stronger they get with items. Damage dealt to turrets is unexpected, but still not completely out of the ordinary, since turrets need to be destroyed to win the game.\n",
        "\n",
        "With a low L2 regularzation constant (high C), the three most important features were assists and vision score. Vision score is definitely important to win a game, and better players tend to have a higher vision score, since higher vision score means more visible area of the map. Assists are interesting, but also makes sense because it is a better measure of kill participation than kills are. Still, kills were also important when the weights are viewed."
      ]
    },
    {
      "cell_type": "code",
      "metadata": {
        "id": "TtvnwedggF3T",
        "colab_type": "code",
        "outputId": "deaf28e5-19f3-4349-a49c-6f6cd5f0d9f5",
        "colab": {
          "base_uri": "https://localhost:8080/",
          "height": 410
        }
      },
      "source": [
        "query = 'DESCRIBE testData;'\n",
        "cursor.execute(query)\n",
        "columns = cursor.fetchall()\n",
        "\n",
        "W_l1 = logreg.coef_\n",
        "\n",
        "plt.figure(figsize=(7,7))\n",
        "# plt.subplot(2,1,1)\n",
        "# plt.stem(W[0,:])\n",
        "# plt.title('No regularization')\n",
        "plt.subplot(2,1,2)\n",
        "plt.stem(W_l1[0,:])\n",
        "plt.title('l1-regularization')\n",
        "for i in range(len(W_l1[0])):\n",
        "  w = W_l1[0, i]\n",
        "  if w > 0.2:\n",
        "  # if w > 150:\n",
        "    print(columns[i][0])"
      ],
      "execution_count": 17,
      "outputs": [
        {
          "output_type": "stream",
          "text": [
            "/usr/local/lib/python3.6/dist-packages/ipykernel_launcher.py:12: UserWarning: In Matplotlib 3.3 individual lines on a stem plot will be added as a LineCollection instead of individual lines. This significantly improves the performance of a stem plot. To remove this warning and switch to the new behaviour, set the \"use_line_collection\" keyword argument to True.\n",
            "  if sys.path[0] == '':\n"
          ],
          "name": "stderr"
        },
        {
          "output_type": "stream",
          "text": [
            "s1g1damageDealtToTurrets\n",
            "s1g1goldEarned\n",
            "s2g1damageDealtToTurrets\n",
            "s3g2goldEarned\n",
            "s4g1goldEarned\n",
            "s4g2damageDealtToTurrets\n",
            "s5g1damageDealtToTurrets\n"
          ],
          "name": "stdout"
        },
        {
          "output_type": "display_data",
          "data": {
            "image/png": "[encoded data removed]",
            "text/plain": [
              "<Figure size 504x504 with 1 Axes>"
            ]
          },
          "metadata": {
            "tags": []
          }
        }
      ]
    },
    {
      "cell_type": "code",
      "metadata": {
        "id": "4oRBRcG_DsTO",
        "colab_type": "code",
        "colab": {
          "base_uri": "https://localhost:8080/",
          "height": 34
        },
        "outputId": "d82ab813-0455-4568-e1ea-f1b52722e6d7"
      },
      "source": [
        "query = 'SELECT COUNT(*) FROM testData;'\n",
        "cursor.execute(query)\n",
        "print(cursor.fetchall())\n",
        "# cursor.close()\n",
        "# connection.close()"
      ],
      "execution_count": 14,
      "outputs": [
        {
          "output_type": "stream",
          "text": [
            "((3725,),)\n"
          ],
          "name": "stdout"
        }
      ]
    },
    {
      "cell_type": "code",
      "metadata": {
        "id": "ADNdYRlNFerv",
        "colab_type": "code",
        "colab": {}
      },
      "source": [
        ""
      ],
      "execution_count": 0,
      "outputs": []
    }
  ]
}